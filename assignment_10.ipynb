{
  "cells": [
    {
      "cell_type": "markdown",
      "metadata": {
        "id": "xqXbEBZtB8-u"
      },
      "source": [
        "# **Assignment 10**"
      ]
    },
    {
      "cell_type": "code",
      "execution_count": 8,
      "metadata": {
        "id": "Iqswq2_ak3e-"
      },
      "outputs": [],
      "source": [
        "# core\n",
        "import matplotlib.pyplot as plt\n",
        "import numpy as np\n",
        "import pandas as pd\n",
        "\n",
        "# ml\n",
        "from sklearn import datasets as ds\n",
        "from sklearn import linear_model as lm\n",
        "from sklearn.neighbors import KNeighborsClassifier as KNN\n",
        "from sklearn.model_selection import train_test_split as tts\n",
        "\n",
        "#plotly or other graphing library\n",
        "import plotly.express as px\n"
      ]
    },
    {
      "cell_type": "code",
      "execution_count": 10,
      "metadata": {
        "id": "92pRcki-k3kH"
      },
      "outputs": [],
      "source": [
        "# Load datasets here once and assign to variables iris and boston\n",
        "\n",
        "iris = ds.load_iris()"
      ]
    },
    {
      "cell_type": "markdown",
      "metadata": {
        "id": "lA9exQg2lFEn"
      },
      "source": [
        "**Q1** \n",
        "\n",
        "**Data set: Iris**\n",
        "\n",
        "* Return the first 5 rows of the data including the feature names as column headings in a DataFrame and a\n",
        "separate Python list containing target names"
      ]
    },
    {
      "cell_type": "code",
      "execution_count": 18,
      "metadata": {
        "id": "1kcEFauAlAxY"
      },
      "outputs": [
        {
          "name": "stdout",
          "output_type": "stream",
          "text": [
            "(   sepal length (cm)  sepal width (cm)  petal length (cm)  petal width (cm)\n",
            "0                5.1               3.5                1.4               0.2\n",
            "1                4.9               3.0                1.4               0.2\n",
            "2                4.7               3.2                1.3               0.2\n",
            "3                4.6               3.1                1.5               0.2\n",
            "4                5.0               3.6                1.4               0.2, array(['setosa', 'versicolor', 'virginica'], dtype='<U10'))\n"
          ]
        }
      ],
      "source": [
        "# Without defining a function\n",
        "#df = pd.DataFrame(iris.data, columns=iris.feature_names)\n",
        "#target_names = iris.target_names\n",
        "#print(df.head())\n",
        "#print(target_names)\n",
        "\n",
        "#* Wrapping it all up in a function\n",
        "def first_five_rows(dataset):\n",
        "    df = pd.DataFrame(dataset.data, columns=dataset.feature_names)\n",
        "    target_names = dataset.target_names\n",
        "    return df.head(), target_names\n",
        "\n",
        "# To print both parts with one command\n",
        "print(first_five_rows(iris))\n",
        "\n",
        "# Using separate print statements\n",
        "#print(first_five_rows(iris)[0])\n",
        "#print(first_five_rows(iris)[1])"
      ]
    },
    {
      "cell_type": "markdown",
      "metadata": {
        "id": "o2GEIhqzlT-i"
      },
      "source": [
        "**Q2**\n",
        "\n",
        "**Data set: Iris**\n",
        "\n",
        "* Fit the Iris dataset into a kNN model with neighbors=5 and predict the category of observations passed in \n",
        "argument new_observations. Return back the target names of each prediction (and not their encoded values,\n",
        " i.e. return setosa instead of 0)."
      ]
    },
    {
      "cell_type": "code",
      "execution_count": 122,
      "metadata": {
        "id": "wyqbRKh5lAzg"
      },
      "outputs": [
        {
          "name": "stdout",
          "output_type": "stream",
          "text": [
            "['setosa' 'virginica']\n"
          ]
        }
      ],
      "source": [
        "def knn_predict(dataset, new_observations, k=5):\n",
        "    knn = KNN(n_neighbors=k)\n",
        "    knn.fit(dataset.data, dataset.target)\n",
        "    return dataset.target_names[knn.predict(new_observations)]\n",
        "\n",
        "# Test the function with these randomly chosen new observations\n",
        "new_observations = np.array([[5.1, 3.5, 1.4, 0.2], [5.9, 3., 5.1, 1.8]])\n",
        "print(knn_predict(iris, new_observations))"
      ]
    },
    {
      "cell_type": "markdown",
      "metadata": {
        "id": "aVMa16PflnBv"
      },
      "source": [
        "**Q3** 15 pts\n",
        "\n",
        "**Data set: Iris**\n",
        "\n",
        "* Split the Iris dataset into a train / test model with the split ratio between the two established by the function parameter split.\n",
        "\n",
        "* Fit KNN with the training data with number of neighbors equal to the function parameter neighbors\n",
        "\n",
        "* Generate and return back an accuracy score using the test data that was split out"
      ]
    },
    {
      "cell_type": "code",
      "execution_count": 121,
      "metadata": {
        "id": "5VIRae0xlA20"
      },
      "outputs": [
        {
          "name": "stdout",
          "output_type": "stream",
          "text": [
            "1.0\n"
          ]
        }
      ],
      "source": [
        "def knn_accuracy(dataset, split, neighbors):\n",
        "    X_train, X_test, y_train, y_test = tts(dataset.data, dataset.target, test_size=split)\n",
        "    knn = KNN(n_neighbors=neighbors)\n",
        "    knn.fit(X_train, y_train)\n",
        "    return knn.score(X_test, y_test)\n",
        "\n",
        "# Test the function with these randomly chosen parameters\n",
        "split = 0.3\n",
        "neighbors = 4\n",
        "print(knn_accuracy(iris, split, neighbors))\n"
      ]
    },
    {
      "cell_type": "markdown",
      "metadata": {
        "id": "GupwxBDVl8n2"
      },
      "source": [
        "**Q4**\n",
        "\n",
        "**Data set: Iris**\n",
        "\n",
        "* Generate an overfitting / underfitting curve of kNN each of the testing and training accuracy performance scores series for a range of neighbor (k) values from 1 to 30 and plot the curves (number of neighbors is x-axis, performance score is y-axis on the chart)."
      ]
    },
    {
      "cell_type": "code",
      "execution_count": 205,
      "metadata": {
        "id": "M-6Ig8_QlA6J"
      },
      "outputs": [
        {
          "data": {
            "image/png": "[encoded data removed]",
            "text/plain": [
              "<Figure size 1000x600 with 1 Axes>"
            ]
          },
          "metadata": {},
          "output_type": "display_data"
        }
      ],
      "source": [
        "#* Generate an overfitting / underfitting curve of kNN each of the testing and training accuracy performance scores series for a range of neighbor (k) values from 1 to 30 and plot the curves (number of neighbors is x-axis, performance score is y-axis on the chart).\n",
        "\n",
        "def knn_overfit_underfit(dataset, split, neighbors_max):\n",
        "    X_train, X_test, y_train, y_test = tts(dataset.data, dataset.target, test_size=split, random_state=1125)\n",
        "    train_scores = []\n",
        "    test_scores = []\n",
        "    for i in range(1, neighbors_max+1):\n",
        "        knn = KNN(n_neighbors=i)\n",
        "        knn.fit(X_train, y_train)\n",
        "        train_scores.append(knn.score(X_train, y_train))\n",
        "        test_scores.append(knn.score(X_test, y_test))\n",
        "    return train_scores, test_scores\n",
        "\n",
        "# Test the function \n",
        "split = 0.2\n",
        "neighbors_max = 30\n",
        "train, test = knn_overfit_underfit(iris, split, 30)\n",
        "\n",
        "plt.figure(figsize=(10,6))\n",
        "plt.plot(train, marker='o', label='Train')\n",
        "plt.plot(test, marker='x', label='Test')\n",
        "plt.xlabel('k Neighbors')\n",
        "plt.ylabel('Performance')\n",
        "plt.title('kNN Performance')\n",
        "plt.legend()\n",
        "plt.show()"
      ]
    },
    {
      "cell_type": "markdown",
      "metadata": {
        "id": "NQ8WM1UJl8Iy"
      },
      "source": [
        "**Q5** 10 pts\n",
        "\n",
        "**Data set: Boston**\n",
        "\n",
        "\n",
        "* Load sklearn's Boston data into a DataFrame (only the data and feature_name as column names)\n",
        "\n",
        "* Load sklearn's Boston target values into a separate DataFrame\n",
        "\n",
        "* Return back the average of AGE, average of the target (median value of homes or MEDV), and the target as NumPy values "
      ]
    },
    {
      "cell_type": "code",
      "execution_count": null,
      "metadata": {
        "id": "-Qi-PJvxlA8O"
      },
      "outputs": [],
      "source": []
    },
    {
      "cell_type": "markdown",
      "metadata": {
        "id": "-z7LddLfmNyP"
      },
      "source": [
        "**Q6** \n",
        "\n",
        "**Data set: Boston**\n",
        "\n",
        "* In the Boston dataset, the feature PTRATIO refers to pupil teacher ratio.\n",
        "\n",
        "* Using a matplotlib scatter plot, plot MEDV median value of homes as y-axis and PTRATIO as x-axis\n",
        "\n",
        "* Return back PTRATIO as a NumPy array"
      ]
    },
    {
      "cell_type": "code",
      "execution_count": null,
      "metadata": {
        "id": "CDFVf0vxmSMo"
      },
      "outputs": [],
      "source": []
    },
    {
      "cell_type": "markdown",
      "metadata": {
        "id": "vmsmxjBcmZZ1"
      },
      "source": [
        "**Q7**\n",
        "\n",
        "**Data set: Boston**\n",
        "\n",
        "* Create a regression model for MEDV / PTRATIO and display a chart showing the regression line using matplotlib\n",
        "\n",
        "\n",
        "* Use np.linspace() to generate prediction X values from min to max PTRATIO\n",
        "\n",
        "* Return back the regression prediction space and regression predicted values\n",
        "\n",
        "* Make sure to labels axes appropriately"
      ]
    },
    {
      "cell_type": "code",
      "execution_count": null,
      "metadata": {
        "id": "02DsBMnDmmXC"
      },
      "outputs": [],
      "source": []
    }
  ],
  "metadata": {
    "colab": {
      "name": "assignment_10.ipynb",
      "provenance": []
    },
    "kernelspec": {
      "display_name": "Python 3",
      "name": "python3"
    },
    "language_info": {
      "codemirror_mode": {
        "name": "ipython",
        "version": 3
      },
      "file_extension": ".py",
      "mimetype": "text/x-python",
      "name": "python",
      "nbconvert_exporter": "python",
      "pygments_lexer": "ipython3",
      "version": "3.12.0"
    }
  },
  "nbformat": 4,
  "nbformat_minor": 0
}
