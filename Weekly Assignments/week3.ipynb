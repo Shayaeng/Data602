{
 "cells": [
  {
   "cell_type": "markdown",
   "metadata": {},
   "source": [
    "Q1. What will the following code display?"
   ]
  },
  {
   "cell_type": "code",
   "execution_count": 5,
   "metadata": {},
   "outputs": [
    {
     "name": "stdout",
     "output_type": "stream",
     "text": [
      "[2, 3, 4, 5]\n"
     ]
    }
   ],
   "source": [
    "numbers = [1, 2, 3, 4, 5]\n",
    "print(numbers[1:-5])"
   ]
  },
  {
   "cell_type": "markdown",
   "metadata": {},
   "source": [
    "The current code will return an empty list since it is indexing backwards and negative -5 is less than any idex in the list. To print the entire list (using the same format instead of just a print statement or just a colon ':') we can do the following code:"
   ]
  },
  {
   "cell_type": "code",
   "execution_count": 7,
   "metadata": {},
   "outputs": [
    {
     "name": "stdout",
     "output_type": "stream",
     "text": [
      "[1, 2, 3, 4]\n"
     ]
    }
   ],
   "source": [
    "print(numbers[0:5])"
   ]
  },
  {
   "cell_type": "markdown",
   "metadata": {},
   "source": [
    "Q2. Design a program that asks the user to enter a store’s sales for each day of the\n",
    "week. The amounts should be stored in a list. Use a loop to calculate the total sales for\n",
    "the week and display the result."
   ]
  },
  {
   "cell_type": "code",
   "execution_count": 8,
   "metadata": {},
   "outputs": [
    {
     "name": "stdout",
     "output_type": "stream",
     "text": [
      "The total sales for the week is: 10.0\n"
     ]
    }
   ],
   "source": [
    "sales = []\n",
    "days = ['Monday', 'Tuesday', 'Wednesday', 'Thursday', 'Friday', 'Saturday', 'Sunday']\n",
    "\n",
    "for day in days:\n",
    "    sale = float(input(f\"Enter the sales for {day}: \"))\n",
    "    sales.append(sale)\n",
    "\n",
    "total_sales = sum(sales)\n",
    "print(f\"The total sales for the week is: {total_sales}\")\n"
   ]
  },
  {
   "cell_type": "markdown",
   "metadata": {},
   "source": [
    "Q3. Create a list with at least 5 places you’d like to travel to. Make sure the list isn’t in\n",
    "alphabetical order\n",
    "● Print your list in its original order.\n",
    "● Use the sort() function to arrange your list in order and reprint your list.\n",
    "● Use the sort(reverse=True) and reprint your list."
   ]
  },
  {
   "cell_type": "code",
   "execution_count": 9,
   "metadata": {},
   "outputs": [
    {
     "name": "stdout",
     "output_type": "stream",
     "text": [
      "['Tokyo', 'Iceland', 'Alaska', 'Johannesburg', 'Hawaii']\n",
      "['Alaska', 'Hawaii', 'Iceland', 'Johannesburg', 'Tokyo']\n",
      "['Tokyo', 'Johannesburg', 'Iceland', 'Hawaii', 'Alaska']\n"
     ]
    }
   ],
   "source": [
    "bucket_list = ['Tokyo', 'Iceland', 'Alaska', 'Johannesburg', 'Hawaii']\n",
    "print(bucket_list)\n",
    "bucket_list.sort()\n",
    "print(bucket_list)\n",
    "bucket_list.sort(reverse=True)\n",
    "print(bucket_list)\n"
   ]
  },
  {
   "cell_type": "markdown",
   "metadata": {},
   "source": [
    "Q4. Write a program that creates a dictionary containing course numbers and the room\n",
    "numbers of the rooms where the courses meet. The program should also create a\n",
    "dictionary containing course numbers and the names of the instructors that teach each\n",
    "course. After that, the program should let the user enter a course number, then it should\n",
    "display the course’s room number, instructor, and meeting time."
   ]
  },
  {
   "cell_type": "code",
   "execution_count": 12,
   "metadata": {},
   "outputs": [
    {
     "name": "stdout",
     "output_type": "stream",
     "text": [
      "Course: DATA607\n",
      "Room Number: Room 202\n",
      "Instructor: Andrew Catlin\n",
      "Meeting Time: W 6:45 PM\n"
     ]
    }
   ],
   "source": [
    "course_rooms = {\n",
    "    'DATA602': 'Room 101',\n",
    "    'DATA605': 'Room 102',\n",
    "    'DATA606': 'Room 201',\n",
    "    'DATA607': 'Room 202',\n",
    "    'DATA621': 'Room 301'\n",
    "}\n",
    "\n",
    "course_instructors = {\n",
    "    'DATA602': 'Nicholas Schettini',\n",
    "    'DATA605': 'Lawrence Fulton',\n",
    "    'DATA606': 'Jason Bryer',\n",
    "    'DATA607': 'Andrew Catlin',\n",
    "    'DATA621': 'Jeffrey Edwards'\n",
    "}\n",
    "\n",
    "course_meeting_times = {\n",
    "    'DATA602': 'Th 6:00 PM',\n",
    "    'DATA605': 'Tu 6:00 PM',\n",
    "    'DATA606': 'W 8:00 PM',\n",
    "    'DATA607': 'W 6:45 PM',\n",
    "    'DATA621': 'W 7:00 PM'\n",
    "}\n",
    "\n",
    "course_number = input(\"Enter a course number: \")\n",
    "\n",
    "room_number = course_rooms.get(course_number)\n",
    "instructor_name = course_instructors.get(course_number)\n",
    "meeting_time = course_meeting_times.get(course_number)\n",
    "\n",
    "if room_number and instructor_name:\n",
    "    print(f\"Course: {course_number}\")\n",
    "    print(f\"Room Number: {room_number}\")\n",
    "    print(f\"Instructor: {instructor_name}\")\n",
    "    print(f\"Meeting Time: {meeting_time}\")\n",
    "else:\n",
    "    print(\"Invalid course number.\")\n"
   ]
  },
  {
   "cell_type": "markdown",
   "metadata": {},
   "source": [
    "Q5. Write a program that keeps names and email addresses in a dictionary as\n",
    "key-value pairs. The program should then demonstrate the four options:\n",
    "● look up a person’s email address,\n",
    "● add a new name and email address,\n",
    "● change an existing email address, and\n",
    "● delete an existing name and email address."
   ]
  },
  {
   "cell_type": "code",
   "execution_count": 14,
   "metadata": {},
   "outputs": [
    {
     "name": "stdout",
     "output_type": "stream",
     "text": [
      "Email address not found.\n",
      "Contact added successfully.\n",
      "shaya@example.com\n",
      "Email address updated successfully.\n",
      "Shaya.new@example.com\n",
      "Contact deleted successfully.\n",
      "Email address not found.\n"
     ]
    }
   ],
   "source": [
    "# Create an empty dictionary to store names and email addresses\n",
    "contacts = {}\n",
    "\n",
    "# Function to look up a person's email address\n",
    "def lookup_email(name):\n",
    "    if name in contacts:\n",
    "        return contacts[name]\n",
    "    else:\n",
    "        return \"Email address not found.\"\n",
    "\n",
    "# Function to add a new name and email address\n",
    "def add_contact(name, email):\n",
    "    contacts[name] = email\n",
    "    return \"Contact added successfully.\"\n",
    "\n",
    "# Function to change an existing email address\n",
    "def change_email(name, new_email):\n",
    "    if name in contacts:\n",
    "        contacts[name] = new_email\n",
    "        return \"Email address updated successfully.\"\n",
    "    else:\n",
    "        return \"Contact not found.\"\n",
    "\n",
    "# Function to delete an existing name and email address\n",
    "def delete_contact(name):\n",
    "    if name in contacts:\n",
    "        del contacts[name]\n",
    "        return \"Contact deleted successfully.\"\n",
    "    else:\n",
    "        return \"Contact not found.\"\n",
    "\n",
    "# Demonstrate the four options\n",
    "\n",
    "print(lookup_email(\"Shaya Engelman\"))  # Output: Email address not found.\n",
    "\n",
    "print(add_contact(\"Shaya Engelman\", \"shaya@example.com\"))  # Output: Contact added successfully.\n",
    "\n",
    "print(lookup_email(\"Shaya Engelman\"))  # Output: alice@example.com\n",
    "\n",
    "print(change_email(\"Shaya Engelman\", \"Shaya.new@example.com\"))  # Output: Email address updated successfully.\n",
    "\n",
    "print(lookup_email(\"Shaya Engelman\"))  # Output: alice.new@example.com\n",
    "\n",
    "print(delete_contact(\"Shaya Engelman\"))  # Output: Contact deleted successfully.\n",
    "\n",
    "print(lookup_email(\"Shaya  Engelman\"))  # Output: Email address not found.\n"
   ]
  }
 ],
 "metadata": {
  "kernelspec": {
   "display_name": "Python 3",
   "language": "python",
   "name": "python3"
  },
  "language_info": {
   "codemirror_mode": {
    "name": "ipython",
    "version": 3
   },
   "file_extension": ".py",
   "mimetype": "text/x-python",
   "name": "python",
   "nbconvert_exporter": "python",
   "pygments_lexer": "ipython3",
   "version": "3.12.0"
  }
 },
 "nbformat": 4,
 "nbformat_minor": 2
}
