{
 "cells": [
  {
   "cell_type": "markdown",
   "metadata": {},
   "source": [
    "Q1: Write a program that prompts the user for a meal: breakfast, lunch, or dinner. Then using if statements and else statements print the user a message recommending a meal. For example, if the meal was breakfast, you could say something like, “How about some bacon and eggs?”\n",
    "The user may enter something else in, but you only have to respond to breakfast, lunch, or dinner."
   ]
  },
  {
   "cell_type": "code",
   "execution_count": 1,
   "metadata": {},
   "outputs": [
    {
     "name": "stdout",
     "output_type": "stream",
     "text": [
      "what about some eggs and toast?\n"
     ]
    }
   ],
   "source": [
    "meal = input('Which meal do you want help with?')\n",
    "if meal == 'breakfast':\n",
    "    print('How about some eggs and toast?')\n",
    "elif meal == 'lunch':\n",
    "    print('How about a tuna salad sandwich?')\n",
    "elif meal == 'dinner':\n",
    "    print('Howabout some chicken and rice?')\n",
    "else:\n",
    "    print('Invalid meal choice. Please choose breakfast, lunch, or dinner.')"
   ]
  },
  {
   "cell_type": "markdown",
   "metadata": {},
   "source": [
    "Q2: The mailroom has asked you to design a simple payroll program that calculates a student employee’s gross pay, including any overtime wages. If any employee works over 20 hours in a week, the mailroom pays them 1.5 times their regular hourly pay rate for all hours over 20. \n",
    "You should take in the user’s input for the number of hours worked, and their rate of pay."
   ]
  },
  {
   "cell_type": "code",
   "execution_count": 9,
   "metadata": {},
   "outputs": [
    {
     "name": "stdout",
     "output_type": "stream",
     "text": [
      "You will make $ 275.0 this week.\n"
     ]
    }
   ],
   "source": [
    "while True:\n",
    "    try:\n",
    "        pay_per_hour = float(input('How much do you get paid per hour?'))\n",
    "        break\n",
    "    except ValueError:\n",
    "        print('Invalid input. Please enter a valid number.')\n",
    "while True:\n",
    "    try:\n",
    "        hours_worked = float(input('How many hours did you work this week?'))\n",
    "        break\n",
    "    except ValueError:\n",
    "        print('Invalid input. Please enter a valid number.')\n",
    "    print('You will make $', pay_per_hour * hours_worked, 'this week.')\n",
    "\n",
    "if hours_worked <= 20:\n",
    "    print('You will make $', (pay_per_hour * hours_worked), 'this week.')\n",
    "else:\n",
    "    print('You will make $', (pay_per_hour * 20) + (pay_per_hour * 1.5) * (hours_worked - 20), 'this week.')"
   ]
  },
  {
   "cell_type": "markdown",
   "metadata": {},
   "source": [
    "Q3: Write a function named times_ten. The function should accept an argument and display the product of its argument multiplied times 10."
   ]
  },
  {
   "cell_type": "code",
   "execution_count": 11,
   "metadata": {},
   "outputs": [
    {
     "name": "stdout",
     "output_type": "stream",
     "text": [
      "50\n"
     ]
    }
   ],
   "source": [
    "def times_ten(x):\n",
    "    return x * 10\n",
    "\n",
    "print(times_ten(5))"
   ]
  },
  {
   "cell_type": "markdown",
   "metadata": {},
   "source": [
    "SQ4: Find the errors, debug the program, and then execute to show the output.\n",
    "\n",
    "def main()\n",
    "      Calories1 = input( \"How many calories are in the first food?\")\n",
    "      Calories2 = input( \"How many calories are in the first food?\")\n",
    "      showCalories(calories1, calories2)\n",
    "\n",
    "def showCalories()   \n",
    "   print(“The total calories you ate today”, format(calories1 + calories2,.2f))"
   ]
  },
  {
   "cell_type": "code",
   "execution_count": 16,
   "metadata": {},
   "outputs": [
    {
     "name": "stdout",
     "output_type": "stream",
     "text": [
      "The total calories you ate today 67.20\n"
     ]
    }
   ],
   "source": [
    "def main(): # added a colon ':'\n",
    "      calories1 = input( \"How many calories are in the first food?\") # changed the variable name to calories1\n",
    "      calories2 = input( \"How many calories are in the second food?\") # changed the variable name to calories2 and changed the input prompt to ask for the second food\n",
    "      showCalories(calories1, calories2)\n",
    "\n",
    "def showCalories(calories1, calories2): # added the calories as arguments to the function and added a colon ':'\n",
    "   print(\"The total calories you ate today\", format(float(calories1) + float(calories2), '.2f')) # replaced the double guotes with the python-correct ones, added the float() function to convert the input froma string to a float, and fixed the format() function to format the output to 2 decimal places\n",
    "\n",
    "main() # added the main function call"
   ]
  },
  {
   "cell_type": "markdown",
   "metadata": {},
   "source": [
    "Q5: Write a program that uses any loop (while or for) that calculates the total of the following series of numbers:\n",
    "         1/30 + 2/29 + 3/28 ............. + 30/1"
   ]
  },
  {
   "cell_type": "code",
   "execution_count": 24,
   "metadata": {},
   "outputs": [
    {
     "name": "stdout",
     "output_type": "stream",
     "text": [
      "30\n",
      "93.84460105853213\n"
     ]
    }
   ],
   "source": [
    "var_1 = 0\n",
    "var_2 = 31\n",
    "num_list = [] # added this to help with debugging to make sure all the numbers are being represented.\n",
    "total = 0\n",
    "\n",
    "for i in range(30):\n",
    "    var_1 = var_1 + 1\n",
    "    var_2 = var_2 - 1\n",
    "    num_list.append(var_1/var_2)\n",
    "    total = total + list[i]\n",
    "\n",
    "\n",
    "print(len(num_list)) # here for debugging\n",
    "print(total)\n"
   ]
  },
  {
   "cell_type": "markdown",
   "metadata": {},
   "source": [
    "Q6: Write a function that computes the area of a triangle given its base and height.\n",
    "The formula for an area of a triangle is:\n",
    "AREA = 1/2 * BASE * HEIGHT\n",
    "\n",
    "For example, if the base was 5 and the height was 4, the area would be 10.\n",
    "triangle_area(5, 4)   # should print 10"
   ]
  },
  {
   "cell_type": "code",
   "execution_count": 26,
   "metadata": {},
   "outputs": [
    {
     "data": {
      "text/plain": [
       "10.5"
      ]
     },
     "execution_count": 26,
     "metadata": {},
     "output_type": "execute_result"
    }
   ],
   "source": [
    "def area_of_triangle(base, height):\n",
    "    return 0.5 * base * height\n",
    "\n",
    "area_of_triangle(3, 7)"
   ]
  }
 ],
 "metadata": {
  "kernelspec": {
   "display_name": "Python 3",
   "language": "python",
   "name": "python3"
  },
  "language_info": {
   "codemirror_mode": {
    "name": "ipython",
    "version": 3
   },
   "file_extension": ".py",
   "mimetype": "text/x-python",
   "name": "python",
   "nbconvert_exporter": "python",
   "pygments_lexer": "ipython3",
   "version": "3.12.0"
  }
 },
 "nbformat": 4,
 "nbformat_minor": 2
}
